{
 "cells": [
  {
   "cell_type": "markdown",
   "metadata": {},
   "source": [
    "# write diff func. to generate images"
   ]
  },
  {
   "cell_type": "code",
   "execution_count": null,
   "metadata": {},
   "outputs": [
    {
     "name": "stdout",
     "output_type": "stream",
     "text": [
      "File: gray.jpeg, Size: 386 bytes\n",
      "File: gray.png, Size: 120 bytes\n",
      "File: gray.bmp, Size: 1334 bytes\n",
      "File: rgb.jpeg, Size: 635 bytes\n",
      "File: rgb.png, Size: 109 bytes\n",
      "File: rgb.bmp, Size: 822 bytes\n"
     ]
    }
   ],
   "source": [
    "import cv2\n",
    "import numpy as np\n",
    "import os\n",
    "\n",
    "# Create a grayscale image (gradient) \n",
    "gray_image = np.linspace(0, 255, 256, dtype=np.uint8).reshape(16, 16)  # 16x16 gradient\n",
    "\n",
    "# Create an RGB image (solid color: blue)\n",
    "rgb_image = np.full((16, 16, 3), (255, 0, 0), dtype=np.uint8)  # Blue color\n",
    "\n",
    "# Define file formats and filenames\n",
    "formats = [\"jpeg\", \"png\", \"bmp\"]\n",
    "images = { \n",
    "    \"gray\": gray_image,\n",
    "    \"rgb\": rgb_image\n",
    "}\n",
    "\n",
    "# Save images and check sizes\n",
    "file_sizes = {}\n",
    "\n",
    "for img_type, image in images.items():\n",
    "    for fmt in formats:\n",
    "        filename =  f\"{img_type}.{fmt}\"\n",
    "        cv2.imwrite(filename, image)  # Save image\n",
    "        file_size = os.path.getsize(filename)  # Get file size\n",
    "        file_sizes[filename] = file_size\n",
    "        print(f\"File: {filename}, Size: {file_size} bytes\")\n",
    "\n",
    "# Cleanup: Uncomment to remove files after execution\n",
    "    # for file in file_sizes.keys():\n",
    "    #     os.remove(file)"
   ]
  },
  {
   "cell_type": "code",
   "execution_count": null,
   "metadata": {},
   "outputs": [],
   "source": []
  }
 ],
 "metadata": {
  "kernelspec": {
   "display_name": "Projects",
   "language": "python",
   "name": "python3"
  },
  "language_info": {
   "codemirror_mode": {
    "name": "ipython",
    "version": 3
   },
   "file_extension": ".py",
   "mimetype": "text/x-python",
   "name": "python",
   "nbconvert_exporter": "python",
   "pygments_lexer": "ipython3",
   "version": "3.12.8"
  }
 },
 "nbformat": 4,
 "nbformat_minor": 2
}
